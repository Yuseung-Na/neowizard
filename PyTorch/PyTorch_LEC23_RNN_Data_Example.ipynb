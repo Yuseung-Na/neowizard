{
  "nbformat": 4,
  "nbformat_minor": 0,
  "metadata": {
    "colab": {
      "provenance": []
    },
    "kernelspec": {
      "name": "python3",
      "display_name": "Python 3"
    },
    "language_info": {
      "name": "python"
    }
  },
  "cells": [
    {
      "cell_type": "code",
      "source": [
        "input_list = [ [ [1,2],[2,3],[3,4] ], [ [5,6], [6,7], [7,8] ] ]\n",
        "label_list = [10, 20]"
      ],
      "metadata": {
        "id": "JQzvBkyXKdYP"
      },
      "execution_count": 1,
      "outputs": []
    },
    {
      "cell_type": "code",
      "execution_count": 7,
      "metadata": {
        "colab": {
          "base_uri": "https://localhost:8080/"
        },
        "id": "8FfKMAoYJl5H",
        "outputId": "d477c872-a601-4327-b18d-afbdddf077e0"
      },
      "outputs": [
        {
          "output_type": "stream",
          "name": "stdout",
          "text": [
            "(2, 3, 2) (2,)\n"
          ]
        }
      ],
      "source": [
        "import numpy as np\n",
        "\n",
        "x_data = np.array(input_list)\n",
        "y_data = np.array(label_list)\n",
        "\n",
        "print(x_data.shape, y_data.shape)"
      ]
    },
    {
      "cell_type": "code",
      "source": [
        "import torch\n",
        "from torch.utils.data import TensorDataset\n",
        "\n",
        "x_data = torch.FloatTensor(input_list)\n",
        "y_data = torch.FloatTensor(label_list)\n",
        "\n",
        "print(x_data.size(), y_data.size())\n",
        "\n",
        "dataset = TensorDataset(x_data, y_data)"
      ],
      "metadata": {
        "colab": {
          "base_uri": "https://localhost:8080/"
        },
        "id": "RpEMGgHMK5t4",
        "outputId": "54f55d1b-052c-486a-e3fa-a5714e8b35d6"
      },
      "execution_count": 8,
      "outputs": [
        {
          "output_type": "stream",
          "name": "stdout",
          "text": [
            "torch.Size([2, 3, 2]) torch.Size([2])\n"
          ]
        }
      ]
    },
    {
      "cell_type": "code",
      "source": [],
      "metadata": {
        "id": "KdeO4UH-LcKk"
      },
      "execution_count": null,
      "outputs": []
    }
  ]
}