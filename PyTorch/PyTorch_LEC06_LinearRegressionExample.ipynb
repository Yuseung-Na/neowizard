{
  "nbformat": 4,
  "nbformat_minor": 0,
  "metadata": {
    "colab": {
      "provenance": []
    },
    "kernelspec": {
      "name": "python3",
      "display_name": "Python 3"
    },
    "language_info": {
      "name": "python"
    }
  },
  "cells": [
    {
      "cell_type": "markdown",
      "source": [
        "# 데이터 정의"
      ],
      "metadata": {
        "id": "v6dyxUozWQ2l"
      }
    },
    {
      "cell_type": "code",
      "source": [
        "import numpy as np\n",
        "\n",
        "loaded_data = np.loadtxt('/content/PyTorch_LEC06_TrainData.csv', delimiter=',')\n",
        "\n",
        "x_train_np = loaded_data[ : , 0:-1]\n",
        "y_train_np = loaded_data[ : , [-1]]\n",
        "\n",
        "print(loaded_data.shape, x_train_np.shape, y_train_np.shape)"
      ],
      "metadata": {
        "colab": {
          "base_uri": "https://localhost:8080/"
        },
        "id": "r_goz9tn-Piv",
        "outputId": "173b4bee-df64-43cd-8e48-1df8c0d87ef7"
      },
      "execution_count": 2,
      "outputs": [
        {
          "output_type": "stream",
          "name": "stdout",
          "text": [
            "(15, 4) (15, 3) (15, 1)\n"
          ]
        }
      ]
    },
    {
      "cell_type": "code",
      "execution_count": 6,
      "metadata": {
        "id": "OC5I3LHZ8pWF"
      },
      "outputs": [],
      "source": [
        "import torch\n",
        "from torch import nn\n",
        "\n",
        "x_train = torch.Tensor(x_train_np).float()\n",
        "y_train = torch.Tensor(y_train_np).float()"
      ]
    },
    {
      "cell_type": "markdown",
      "source": [
        "# 신경망 모델 구축"
      ],
      "metadata": {
        "id": "XnPf1NiGWZ2n"
      }
    },
    {
      "cell_type": "code",
      "source": [
        "class MyLinearRegressionModel(nn.Module):\n",
        "\n",
        "    def __init__(self, input_nodes):\n",
        "        super().__init__()\n",
        "        self.linear_stack = nn.Sequential(\n",
        "            nn.Linear(input_nodes, 1)\n",
        "        )\n",
        "\n",
        "    def forward(self, data):\n",
        "        prediction = self.linear_stack(data)\n",
        "\n",
        "        return prediction"
      ],
      "metadata": {
        "id": "VhOa5OFRDpIX"
      },
      "execution_count": 8,
      "outputs": []
    },
    {
      "cell_type": "code",
      "source": [
        "model = MyLinearRegressionModel(3)\n",
        "\n",
        "loss_function = nn.MSELoss()\n",
        "\n",
        "optimizer = torch.optim.SGD(model.parameters(), lr=1e-2)"
      ],
      "metadata": {
        "id": "bhbaxF8U2XZ3"
      },
      "execution_count": 16,
      "outputs": []
    },
    {
      "cell_type": "code",
      "source": [
        "for param in model.parameters():\n",
        "    print(param)"
      ],
      "metadata": {
        "colab": {
          "base_uri": "https://localhost:8080/"
        },
        "id": "1fw2ji6VBT00",
        "outputId": "6ba710c9-be66-4239-940f-f3fa2e5aebae"
      },
      "execution_count": 17,
      "outputs": [
        {
          "output_type": "stream",
          "name": "stdout",
          "text": [
            "Parameter containing:\n",
            "tensor([[ 0.4212, -0.4304,  0.2209]], requires_grad=True)\n",
            "Parameter containing:\n",
            "tensor([0.5509], requires_grad=True)\n"
          ]
        }
      ]
    },
    {
      "cell_type": "code",
      "source": [
        "nums_epoch = 2000\n",
        "\n",
        "for epoch in range(nums_epoch+1):\n",
        "\n",
        "    prediction = model(x_train)\n",
        "    loss = loss_function(prediction, y_train)\n",
        "\n",
        "    optimizer.zero_grad()\n",
        "    loss.backward()\n",
        "    optimizer.step()\n",
        "\n",
        "    if epoch % 100 == 0:\n",
        "        print('epoch = ', epoch, ' current loss = ', loss.item())"
      ],
      "metadata": {
        "colab": {
          "base_uri": "https://localhost:8080/"
        },
        "id": "6vRdl-8d_9S3",
        "outputId": "0281a775-7a17-49df-9497-956fe503b1cb"
      },
      "execution_count": 18,
      "outputs": [
        {
          "output_type": "stream",
          "name": "stdout",
          "text": [
            "epoch =  0  current loss =  16.068117141723633\n",
            "epoch =  100  current loss =  0.1425536572933197\n",
            "epoch =  200  current loss =  0.01061574462801218\n",
            "epoch =  300  current loss =  0.00329231983050704\n",
            "epoch =  400  current loss =  0.0011100881965830922\n",
            "epoch =  500  current loss =  0.0003750534961000085\n",
            "epoch =  600  current loss =  0.0001267164188902825\n",
            "epoch =  700  current loss =  4.28147213824559e-05\n",
            "epoch =  800  current loss =  1.4467190339928493e-05\n",
            "epoch =  900  current loss =  4.888381681666942e-06\n",
            "epoch =  1000  current loss =  1.6523590602446347e-06\n",
            "epoch =  1100  current loss =  5.588072440332326e-07\n",
            "epoch =  1200  current loss =  1.8894591846674302e-07\n",
            "epoch =  1300  current loss =  6.393444351715516e-08\n",
            "epoch =  1400  current loss =  2.177985791718129e-08\n",
            "epoch =  1500  current loss =  7.3275687739737805e-09\n",
            "epoch =  1600  current loss =  2.51187026734101e-09\n",
            "epoch =  1700  current loss =  8.649647109670866e-10\n",
            "epoch =  1800  current loss =  3.1647987008831535e-10\n",
            "epoch =  1900  current loss =  1.314979236610725e-10\n",
            "epoch =  2000  current loss =  6.113658190809446e-11\n"
          ]
        }
      ]
    },
    {
      "cell_type": "code",
      "source": [
        "for param in model.parameters():\n",
        "    print(param)"
      ],
      "metadata": {
        "colab": {
          "base_uri": "https://localhost:8080/"
        },
        "id": "Y19m8tYLCQKD",
        "outputId": "eda2b25c-9579-4e9a-dd75-32a02f414dfa"
      },
      "execution_count": 19,
      "outputs": [
        {
          "output_type": "stream",
          "name": "stdout",
          "text": [
            "Parameter containing:\n",
            "tensor([[ 2.0000, -3.0000,  2.0000]], requires_grad=True)\n",
            "Parameter containing:\n",
            "tensor([1.3759e-05], requires_grad=True)\n"
          ]
        }
      ]
    },
    {
      "cell_type": "markdown",
      "source": [
        "# 테스트 데이터 예측"
      ],
      "metadata": {
        "id": "uZArJnFvwk9Y"
      }
    },
    {
      "cell_type": "code",
      "source": [
        "x_test = torch.Tensor([ [5, 5, 0], [2, 3, 1], [-1, 0, -1], [10, 5, 2] ])\n",
        "\n",
        "label = [ 2*data[0] -3*data[1] + 2*data[2]  for data in x_test ]\n",
        "\n",
        "pred = model(x_test)\n",
        "\n",
        "print(pred)\n",
        "print('=============================================')\n",
        "print(label)"
      ],
      "metadata": {
        "id": "hdO98zfKAyll",
        "colab": {
          "base_uri": "https://localhost:8080/"
        },
        "outputId": "f8d1c5f4-009b-4254-bca0-51ae0c6b7ac0"
      },
      "execution_count": 24,
      "outputs": [
        {
          "output_type": "stream",
          "name": "stdout",
          "text": [
            "tensor([[-5.0000],\n",
            "        [-3.0000],\n",
            "        [-4.0000],\n",
            "        [ 9.0000]], grad_fn=<AddmmBackward0>)\n",
            "=============================================\n",
            "[tensor(-5.), tensor(-3.), tensor(-4.), tensor(9.)]\n"
          ]
        }
      ]
    },
    {
      "cell_type": "code",
      "source": [],
      "metadata": {
        "id": "8tkzr0NZxE-D"
      },
      "execution_count": null,
      "outputs": []
    }
  ]
}