{
  "nbformat": 4,
  "nbformat_minor": 0,
  "metadata": {
    "colab": {
      "provenance": []
    },
    "kernelspec": {
      "name": "python3",
      "display_name": "Python 3"
    },
    "language_info": {
      "name": "python"
    }
  },
  "cells": [
    {
      "cell_type": "markdown",
      "source": [
        "# 데이터 정의"
      ],
      "metadata": {
        "id": "v6dyxUozWQ2l"
      }
    },
    {
      "cell_type": "code",
      "source": [
        "import numpy as np\n",
        "\n",
        "loaded_data = np.loadtxt('/content/LEC06_TrainData.csv', delimiter=',')\n",
        "\n",
        "x_train_np = loaded_data[ : , 0:-1]\n",
        "\n",
        "y_train_np = loaded_data[ : , [-1]]\n",
        "\n",
        "print(loaded_data[:3])\n",
        "print('========================')\n",
        "print(x_train_np[:3])\n",
        "print('========================')\n",
        "print(y_train_np[:3])"
      ],
      "metadata": {
        "colab": {
          "base_uri": "https://localhost:8080/"
        },
        "id": "r_goz9tn-Piv",
        "outputId": "a31113a3-402d-463e-f3a6-4899c745af76"
      },
      "execution_count": 12,
      "outputs": [
        {
          "output_type": "stream",
          "name": "stdout",
          "text": [
            "[[ 1.  2.  0. -4.]\n",
            " [ 5.  4.  3.  4.]\n",
            " [ 1.  2. -1. -6.]]\n",
            "========================\n",
            "[[ 1.  2.  0.]\n",
            " [ 5.  4.  3.]\n",
            " [ 1.  2. -1.]]\n",
            "========================\n",
            "[[-4.]\n",
            " [ 4.]\n",
            " [-6.]]\n"
          ]
        }
      ]
    },
    {
      "cell_type": "code",
      "source": [
        "import torch\n",
        "from torch import nn\n",
        "\n",
        "x_train = torch.Tensor(x_train_np)\n",
        "y_train = torch.Tensor(y_train_np)"
      ],
      "metadata": {
        "id": "74Ui1qEopfxF"
      },
      "execution_count": 13,
      "outputs": []
    },
    {
      "cell_type": "markdown",
      "source": [
        "# 신경망 모델 구축"
      ],
      "metadata": {
        "id": "XnPf1NiGWZ2n"
      }
    },
    {
      "cell_type": "code",
      "source": [
        "from torch import nn\n",
        "\n",
        "class MyLinearRegressionModel(nn.Module):\n",
        "\n",
        "    def __init__(self, input_nodes):\n",
        "        super().__init__()\n",
        "        self.linear_stack = nn.Sequential(\n",
        "            nn.Linear(input_nodes, 1)\n",
        "        )\n",
        "\n",
        "    def forward(self, data):\n",
        "        prediction = self.linear_stack(data)\n",
        "\n",
        "        return prediction"
      ],
      "metadata": {
        "id": "VhOa5OFRDpIX"
      },
      "execution_count": 14,
      "outputs": []
    },
    {
      "cell_type": "code",
      "source": [
        "model = MyLinearRegressionModel(3)\n",
        "\n",
        "for name, child in model.named_children():\n",
        "    for param in child.parameters():\n",
        "        print(name, param)"
      ],
      "metadata": {
        "colab": {
          "base_uri": "https://localhost:8080/"
        },
        "id": "tbLGmwCPrY3f",
        "outputId": "f92d8551-87a5-4c42-988d-4db6c42834aa"
      },
      "execution_count": 16,
      "outputs": [
        {
          "output_type": "stream",
          "name": "stdout",
          "text": [
            "linear_stack Parameter containing:\n",
            "tensor([[-0.5557, -0.4701,  0.2213]], requires_grad=True)\n",
            "linear_stack Parameter containing:\n",
            "tensor([0.1274], requires_grad=True)\n"
          ]
        }
      ]
    },
    {
      "cell_type": "markdown",
      "source": [
        "# 손실함수 및 옵티마이저 설정"
      ],
      "metadata": {
        "id": "d74__n3usaUG"
      }
    },
    {
      "cell_type": "code",
      "source": [
        "loss_function = nn.MSELoss()\n",
        "\n",
        "optimizer = torch.optim.SGD(model.parameters(), lr=1e-2)"
      ],
      "metadata": {
        "id": "bhbaxF8U2XZ3"
      },
      "execution_count": 17,
      "outputs": []
    },
    {
      "cell_type": "code",
      "source": [
        "loss_list = []\n",
        "nums_epoch = 2000\n",
        "\n",
        "for epoch in range(nums_epoch+1):\n",
        "\n",
        "    prediction = model(x_train)\n",
        "    loss = loss_function(prediction, y_train)\n",
        "\n",
        "    loss_list.append(loss.item())\n",
        "\n",
        "    optimizer.zero_grad()\n",
        "    loss.backward()\n",
        "    optimizer.step()\n",
        "\n",
        "    if epoch % 100 == 0:\n",
        "        print('epoch = ', epoch, ' current loss = ', loss.item())"
      ],
      "metadata": {
        "colab": {
          "base_uri": "https://localhost:8080/"
        },
        "id": "6vRdl-8d_9S3",
        "outputId": "dfd7817a-2057-43b6-bb0b-9f12e68e3601"
      },
      "execution_count": 19,
      "outputs": [
        {
          "output_type": "stream",
          "name": "stdout",
          "text": [
            "epoch =  0  current loss =  30.434534072875977\n",
            "epoch =  100  current loss =  0.14840154349803925\n",
            "epoch =  200  current loss =  0.0038056843914091587\n",
            "epoch =  300  current loss =  0.0009224975947290659\n",
            "epoch =  400  current loss =  0.0003088385856244713\n",
            "epoch =  500  current loss =  0.00010432893759571016\n",
            "epoch =  600  current loss =  3.5250381188234314e-05\n",
            "epoch =  700  current loss =  1.1910577995877247e-05\n",
            "epoch =  800  current loss =  4.025009275210323e-06\n",
            "epoch =  900  current loss =  1.3602905255538644e-06\n",
            "epoch =  1000  current loss =  4.5975266971254314e-07\n",
            "epoch =  1100  current loss =  1.5563774979909795e-07\n",
            "epoch =  1200  current loss =  5.26675769663143e-08\n",
            "epoch =  1300  current loss =  1.7907071381273454e-08\n",
            "epoch =  1400  current loss =  6.038336053393323e-09\n",
            "epoch =  1500  current loss =  2.053691883219244e-09\n",
            "epoch =  1600  current loss =  7.262540013819319e-10\n",
            "epoch =  1700  current loss =  2.730672354900321e-10\n",
            "epoch =  1800  current loss =  1.1043591041648426e-10\n",
            "epoch =  1900  current loss =  5.5156337830375435e-11\n",
            "epoch =  2000  current loss =  3.3921525310898204e-11\n"
          ]
        }
      ]
    },
    {
      "cell_type": "code",
      "source": [
        "for name, child in model.named_children():\n",
        "    for param in child.parameters():\n",
        "        print(name, param)"
      ],
      "metadata": {
        "colab": {
          "base_uri": "https://localhost:8080/"
        },
        "id": "fr-DUUS0tfXR",
        "outputId": "90f1e188-0935-4ab3-b87c-87e08d2fe8af"
      },
      "execution_count": 20,
      "outputs": [
        {
          "output_type": "stream",
          "name": "stdout",
          "text": [
            "linear_stack Parameter containing:\n",
            "tensor([[ 2.0000, -3.0000,  2.0000]], requires_grad=True)\n",
            "linear_stack Parameter containing:\n",
            "tensor([9.3510e-06], requires_grad=True)\n"
          ]
        }
      ]
    },
    {
      "cell_type": "code",
      "source": [
        "for param in model.parameters():\n",
        "    print(param)"
      ],
      "metadata": {
        "colab": {
          "base_uri": "https://localhost:8080/"
        },
        "id": "Y19m8tYLCQKD",
        "outputId": "87ac33a2-5f3b-45aa-b90e-0960006f880c"
      },
      "execution_count": 21,
      "outputs": [
        {
          "output_type": "stream",
          "name": "stdout",
          "text": [
            "Parameter containing:\n",
            "tensor([[ 2.0000, -3.0000,  2.0000]], requires_grad=True)\n",
            "Parameter containing:\n",
            "tensor([9.3510e-06], requires_grad=True)\n"
          ]
        }
      ]
    },
    {
      "cell_type": "markdown",
      "source": [
        "# 테스트 데이터 예측"
      ],
      "metadata": {
        "id": "uZArJnFvwk9Y"
      }
    },
    {
      "cell_type": "code",
      "source": [
        "x_test = torch.Tensor([ [5, 5, 0], [2, 3, 1], [-1, 0, -1], [10, 5, 2], [4, -1, -2] ])\n",
        "\n",
        "label = [ 2*data[0] -3*data[1] + 2*data[2]  for data in x_test ]\n",
        "\n",
        "pred = model(x_test)\n",
        "\n",
        "print(pred)\n",
        "print('=============================================')\n",
        "print(label)"
      ],
      "metadata": {
        "id": "hdO98zfKAyll",
        "colab": {
          "base_uri": "https://localhost:8080/"
        },
        "outputId": "f76d5c4e-94e0-4228-ef5a-c9cadbfa00f4"
      },
      "execution_count": 22,
      "outputs": [
        {
          "output_type": "stream",
          "name": "stdout",
          "text": [
            "tensor([[-5.0000],\n",
            "        [-3.0000],\n",
            "        [-4.0000],\n",
            "        [ 9.0000],\n",
            "        [ 7.0000]], grad_fn=<AddmmBackward0>)\n",
            "=============================================\n",
            "[tensor(-5.), tensor(-3.), tensor(-4.), tensor(9.), tensor(7.)]\n"
          ]
        }
      ]
    },
    {
      "cell_type": "code",
      "source": [
        "import matplotlib.pyplot as plt\n",
        "\n",
        "plt.title('Loss Trend')\n",
        "plt.xlabel('epochs')\n",
        "plt.ylabel('loss')\n",
        "plt.grid()\n",
        "\n",
        "plt.plot(loss_list, label='train loss')\n",
        "plt.legend(loc='best')\n",
        "\n",
        "plt.show()"
      ],
      "metadata": {
        "id": "8tkzr0NZxE-D",
        "colab": {
          "base_uri": "https://localhost:8080/",
          "height": 472
        },
        "outputId": "29f21283-6101-4438-a4f6-2205815d790f"
      },
      "execution_count": 23,
      "outputs": [
        {
          "output_type": "display_data",
          "data": {
            "text/plain": [
              "<Figure size 640x480 with 1 Axes>"
            ],
            "image/png": "[encoded data removed]"
          },
          "metadata": {}
        }
      ]
    },
    {
      "cell_type": "code",
      "source": [],
      "metadata": {
        "id": "jHOdmJqUuMoh"
      },
      "execution_count": null,
      "outputs": []
    }
  ]
}