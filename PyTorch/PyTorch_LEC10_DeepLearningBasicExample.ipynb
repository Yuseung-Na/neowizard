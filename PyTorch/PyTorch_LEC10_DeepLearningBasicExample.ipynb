{
  "nbformat": 4,
  "nbformat_minor": 0,
  "metadata": {
    "colab": {
      "provenance": []
    },
    "kernelspec": {
      "name": "python3",
      "display_name": "Python 3"
    },
    "language_info": {
      "name": "python"
    }
  },
  "cells": [
    {
      "cell_type": "markdown",
      "source": [
        "# 데이터 정의"
      ],
      "metadata": {
        "id": "v6dyxUozWQ2l"
      }
    },
    {
      "cell_type": "code",
      "source": [
        "import torch\n",
        "\n",
        "x_train = torch.Tensor([2, 4, 6, 8, 10,\n",
        "                        12, 14, 16, 18, 20]).view(10,1)\n",
        "y_train = torch.Tensor([0, 0, 0, 0, 0,\n",
        "                        0, 1, 1, 1, 1]).view(10,1)\n",
        "\n",
        "print(x_train.shape, y_train.shape)"
      ],
      "metadata": {
        "id": "74Ui1qEopfxF",
        "colab": {
          "base_uri": "https://localhost:8080/"
        },
        "outputId": "552075dd-5484-4127-e3d9-8351d867f754"
      },
      "execution_count": 1,
      "outputs": [
        {
          "output_type": "stream",
          "name": "stdout",
          "text": [
            "torch.Size([10, 1]) torch.Size([10, 1])\n"
          ]
        }
      ]
    },
    {
      "cell_type": "markdown",
      "source": [
        "# 신경망 모델 구축"
      ],
      "metadata": {
        "id": "XnPf1NiGWZ2n"
      }
    },
    {
      "cell_type": "code",
      "source": [
        "from torch import nn\n",
        "\n",
        "class MyDeepLearningModel(nn.Module):\n",
        "    def __init__(self):\n",
        "        super().__init__()\n",
        "        self.deeplearning_stack = nn.Sequential(\n",
        "            nn.Linear(1, 8),\n",
        "            nn.Linear(8, 1),\n",
        "            nn.Sigmoid()\n",
        "        )\n",
        "\n",
        "    def forward(self, data):\n",
        "        prediction = self.deeplearning_stack(data)\n",
        "        return prediction"
      ],
      "metadata": {
        "id": "VhOa5OFRDpIX"
      },
      "execution_count": 2,
      "outputs": []
    },
    {
      "cell_type": "code",
      "source": [
        "deeplearning_model = MyDeepLearningModel()\n",
        "\n",
        "for name, child in deeplearning_model.named_children():\n",
        "    for param in child.parameters():\n",
        "        print(name, param)"
      ],
      "metadata": {
        "colab": {
          "base_uri": "https://localhost:8080/"
        },
        "id": "cPAKFy3nFDAM",
        "outputId": "509f6787-d266-4b0c-b6fa-195469a5b4fd"
      },
      "execution_count": 3,
      "outputs": [
        {
          "output_type": "stream",
          "name": "stdout",
          "text": [
            "deeplearning_stack Parameter containing:\n",
            "tensor([[ 0.8563],\n",
            "        [ 0.2287],\n",
            "        [-0.9602],\n",
            "        [ 0.2007],\n",
            "        [ 0.5503],\n",
            "        [ 0.3265],\n",
            "        [ 0.0729],\n",
            "        [ 0.4172]], requires_grad=True)\n",
            "deeplearning_stack Parameter containing:\n",
            "tensor([-0.7311,  0.0009,  0.3659, -0.6176, -0.8870, -0.8870,  0.2865,  0.0695],\n",
            "       requires_grad=True)\n",
            "deeplearning_stack Parameter containing:\n",
            "tensor([[-0.0181, -0.2728, -0.2050,  0.1117, -0.0905, -0.1740,  0.1518, -0.0790]],\n",
            "       requires_grad=True)\n",
            "deeplearning_stack Parameter containing:\n",
            "tensor([0.1045], requires_grad=True)\n"
          ]
        }
      ]
    },
    {
      "cell_type": "markdown",
      "source": [
        "# 손실함수 및 옵티마이저 설정"
      ],
      "metadata": {
        "id": "sLxVJHH2XvUi"
      }
    },
    {
      "cell_type": "code",
      "source": [
        "loss_function = nn.BCELoss()\n",
        "\n",
        "optimizer = torch.optim.SGD(deeplearning_model.parameters(), lr=1e-1)"
      ],
      "metadata": {
        "id": "tbLGmwCPrY3f"
      },
      "execution_count": 4,
      "outputs": []
    },
    {
      "cell_type": "code",
      "source": [
        "nums_epoch = 5000\n",
        "\n",
        "for epoch in range(nums_epoch+1):\n",
        "\n",
        "    outputs = deeplearning_model(x_train)\n",
        "\n",
        "    loss = loss_function(outputs, y_train)\n",
        "\n",
        "    optimizer.zero_grad()\n",
        "    loss.backward()\n",
        "    optimizer.step()\n",
        "\n",
        "    if epoch % 100 == 0:\n",
        "        print('epoch = ', epoch, ' current loss = ', loss.item())"
      ],
      "metadata": {
        "colab": {
          "base_uri": "https://localhost:8080/"
        },
        "id": "6vRdl-8d_9S3",
        "outputId": "13bdfb91-d021-4870-9d2c-340bb562d6d7"
      },
      "execution_count": 5,
      "outputs": [
        {
          "output_type": "stream",
          "name": "stdout",
          "text": [
            "epoch =  0  current loss =  0.7203410863876343\n",
            "epoch =  100  current loss =  0.389792263507843\n",
            "epoch =  200  current loss =  0.31200623512268066\n",
            "epoch =  300  current loss =  0.2660113275051117\n",
            "epoch =  400  current loss =  0.2348921298980713\n",
            "epoch =  500  current loss =  0.21211834251880646\n",
            "epoch =  600  current loss =  0.19456753134727478\n",
            "epoch =  700  current loss =  0.1805354356765747\n",
            "epoch =  800  current loss =  0.169002503156662\n",
            "epoch =  900  current loss =  0.1593160182237625\n",
            "epoch =  1000  current loss =  0.15103843808174133\n",
            "epoch =  1100  current loss =  0.14386208355426788\n",
            "epoch =  1200  current loss =  0.13756518065929413\n",
            "epoch =  1300  current loss =  0.1319836527109146\n",
            "epoch =  1400  current loss =  0.12699195742607117\n",
            "epoch =  1500  current loss =  0.12249322235584259\n",
            "epoch =  1600  current loss =  0.11841149628162384\n",
            "epoch =  1700  current loss =  0.11468535661697388\n",
            "epoch =  1800  current loss =  0.11126599460840225\n",
            "epoch =  1900  current loss =  0.10811368376016617\n",
            "epoch =  2000  current loss =  0.10519345104694366\n",
            "epoch =  2100  current loss =  0.10247878730297089\n",
            "epoch =  2200  current loss =  0.09994520992040634\n",
            "epoch =  2300  current loss =  0.09757265448570251\n",
            "epoch =  2400  current loss =  0.09534488618373871\n",
            "epoch =  2500  current loss =  0.09324661642313004\n",
            "epoch =  2600  current loss =  0.0912657380104065\n",
            "epoch =  2700  current loss =  0.08938981592655182\n",
            "epoch =  2800  current loss =  0.0875980406999588\n",
            "epoch =  2900  current loss =  0.08593197166919708\n",
            "epoch =  3000  current loss =  0.08574702590703964\n",
            "epoch =  3100  current loss =  0.10116517543792725\n",
            "epoch =  3200  current loss =  0.03720895200967789\n",
            "epoch =  3300  current loss =  0.035832710564136505\n",
            "epoch =  3400  current loss =  0.115509033203125\n",
            "epoch =  3500  current loss =  0.03343956917524338\n",
            "epoch =  3600  current loss =  0.029215773567557335\n",
            "epoch =  3700  current loss =  0.0333406962454319\n",
            "epoch =  3800  current loss =  0.02897939458489418\n",
            "epoch =  3900  current loss =  0.025604048743844032\n",
            "epoch =  4000  current loss =  0.035051893442869186\n",
            "epoch =  4100  current loss =  0.02782994881272316\n",
            "epoch =  4200  current loss =  0.024574408307671547\n",
            "epoch =  4300  current loss =  0.021969210356473923\n",
            "epoch =  4400  current loss =  0.20534464716911316\n",
            "epoch =  4500  current loss =  0.027184903621673584\n",
            "epoch =  4600  current loss =  0.023916522040963173\n",
            "epoch =  4700  current loss =  0.021319279447197914\n",
            "epoch =  4800  current loss =  0.019202910363674164\n",
            "epoch =  4900  current loss =  0.017444582656025887\n",
            "epoch =  5000  current loss =  0.015960771590471268\n"
          ]
        }
      ]
    },
    {
      "cell_type": "code",
      "source": [
        "for name, child in deeplearning_model.named_children():\n",
        "    for param in child.parameters():\n",
        "        print(name, param)"
      ],
      "metadata": {
        "colab": {
          "base_uri": "https://localhost:8080/"
        },
        "id": "fr-DUUS0tfXR",
        "outputId": "74543f8a-b4b8-4fb1-c1c2-863abd9c6b17"
      },
      "execution_count": 6,
      "outputs": [
        {
          "output_type": "stream",
          "name": "stdout",
          "text": [
            "deeplearning_stack Parameter containing:\n",
            "tensor([[ 0.3803],\n",
            "        [-0.0713],\n",
            "        [-0.2323],\n",
            "        [ 0.3622],\n",
            "        [ 0.4540],\n",
            "        [ 0.4379],\n",
            "        [-0.1216],\n",
            "        [-0.0653]], requires_grad=True)\n",
            "deeplearning_stack Parameter containing:\n",
            "tensor([-4.0688,  0.7629,  2.4858, -3.8749, -4.8577, -4.6858,  1.3006,  0.6988],\n",
            "       requires_grad=True)\n",
            "deeplearning_stack Parameter containing:\n",
            "tensor([[ 1.2644, -0.2371, -0.7725,  1.2041,  1.5095,  1.4561, -0.4041, -0.2171]],\n",
            "       requires_grad=True)\n",
            "deeplearning_stack Parameter containing:\n",
            "tensor([-5.6648], requires_grad=True)\n"
          ]
        }
      ]
    },
    {
      "cell_type": "markdown",
      "source": [
        "# test data 이용한 예측"
      ],
      "metadata": {
        "id": "uZArJnFvwk9Y"
      }
    },
    {
      "cell_type": "code",
      "source": [
        "deeplearning_model.eval()\n",
        "\n",
        "test_data = torch.Tensor([0.5, 3.0, 3.5, 11.0, 13.0, 31.0]).view(6,1)\n",
        "\n",
        "pred = deeplearning_model(test_data)\n",
        "\n",
        "logical_value = (pred > 0.5).float()\n",
        "\n",
        "print(pred)\n",
        "print(logical_value)"
      ],
      "metadata": {
        "id": "UKU7SHyYVk8f",
        "colab": {
          "base_uri": "https://localhost:8080/"
        },
        "outputId": "1861cabe-e338-4516-e69e-3c631b5590eb"
      },
      "execution_count": 7,
      "outputs": [
        {
          "output_type": "stream",
          "name": "stdout",
          "text": [
            "tensor([[2.9347e-14],\n",
            "        [1.5186e-11],\n",
            "        [5.2994e-11],\n",
            "        [7.2894e-03],\n",
            "        [5.2127e-01],\n",
            "        [1.0000e+00]], grad_fn=<SigmoidBackward0>)\n",
            "tensor([[0.],\n",
            "        [0.],\n",
            "        [0.],\n",
            "        [0.],\n",
            "        [1.],\n",
            "        [1.]])\n"
          ]
        }
      ]
    }
  ]
}