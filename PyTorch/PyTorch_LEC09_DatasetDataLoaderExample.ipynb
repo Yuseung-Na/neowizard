{
  "nbformat": 4,
  "nbformat_minor": 0,
  "metadata": {
    "colab": {
      "provenance": []
    },
    "kernelspec": {
      "name": "python3",
      "display_name": "Python 3"
    },
    "language_info": {
      "name": "python"
    }
  },
  "cells": [
    {
      "cell_type": "markdown",
      "source": [
        "# Dataset 정의"
      ],
      "metadata": {
        "id": "v6dyxUozWQ2l"
      }
    },
    {
      "cell_type": "code",
      "source": [
        "import torch\n",
        "\n",
        "x_train = torch.Tensor([1, 2, 3, 4, 5, 6]).view(6,1)\n",
        "y_train = torch.Tensor([3, 4, 5, 6, 7, 8]).view(6,1)"
      ],
      "metadata": {
        "id": "2POUpZnRfx1z"
      },
      "execution_count": 1,
      "outputs": []
    },
    {
      "cell_type": "code",
      "source": [
        "from torch.utils.data import Dataset, DataLoader\n",
        "\n",
        "class CustomDataset(Dataset):\n",
        "\n",
        "    def __init__(self, x_train, y_train):\n",
        "        self.x_train = x_train\n",
        "        self.y_train = y_train\n",
        "\n",
        "    def __getitem__(self, index):\n",
        "        return self.x_train[index], self.y_train[index]\n",
        "\n",
        "    def __len__(self):\n",
        "        return self.x_train.shape[0]"
      ],
      "metadata": {
        "id": "FdFP5Xkj59ZJ"
      },
      "execution_count": 2,
      "outputs": []
    },
    {
      "cell_type": "markdown",
      "source": [
        "# Dataset 인스턴스 / DataLoader 인스턴스 생성"
      ],
      "metadata": {
        "id": "EfOFV_5EBjzG"
      }
    },
    {
      "cell_type": "code",
      "source": [
        "dataset = CustomDataset(x_train, y_train)\n",
        "\n",
        "train_loader = DataLoader(dataset=dataset, batch_size=3, shuffle=True)"
      ],
      "metadata": {
        "id": "bHdgMr-K7DP3"
      },
      "execution_count": 3,
      "outputs": []
    },
    {
      "cell_type": "code",
      "source": [
        "total_batch = len(train_loader)\n",
        "\n",
        "print(total_batch)"
      ],
      "metadata": {
        "colab": {
          "base_uri": "https://localhost:8080/"
        },
        "id": "vHG1MoRBLXVM",
        "outputId": "95c84fc8-8b9b-4ad4-d3d6-061322424342"
      },
      "execution_count": 4,
      "outputs": [
        {
          "output_type": "stream",
          "name": "stdout",
          "text": [
            "2\n"
          ]
        }
      ]
    },
    {
      "cell_type": "markdown",
      "source": [
        "# 신경망 모델 구축"
      ],
      "metadata": {
        "id": "XnPf1NiGWZ2n"
      }
    },
    {
      "cell_type": "code",
      "source": [
        "from torch import nn\n",
        "\n",
        "class MyLinearRegressionModel(nn.Module):\n",
        "\n",
        "    def __init__(self):\n",
        "        super().__init__()\n",
        "        self.linear_stack = nn.Sequential(\n",
        "            nn.Linear(1, 1)\n",
        "        )\n",
        "\n",
        "    def forward(self, data):\n",
        "        prediction = self.linear_stack(data)\n",
        "\n",
        "        return prediction"
      ],
      "metadata": {
        "id": "VhOa5OFRDpIX"
      },
      "execution_count": 5,
      "outputs": []
    },
    {
      "cell_type": "markdown",
      "source": [
        "# 모델 생성"
      ],
      "metadata": {
        "id": "9j_l0lmvzJI6"
      }
    },
    {
      "cell_type": "code",
      "source": [
        "model = MyLinearRegressionModel()"
      ],
      "metadata": {
        "id": "aKUZISGQzIlU"
      },
      "execution_count": 7,
      "outputs": []
    },
    {
      "cell_type": "markdown",
      "source": [
        "# 손실함수 및 옵티마이저 설정"
      ],
      "metadata": {
        "id": "sLxVJHH2XvUi"
      }
    },
    {
      "cell_type": "code",
      "source": [
        "loss_function = nn.MSELoss()\n",
        "\n",
        "optimizer = torch.optim.SGD(model.parameters(), lr=1e-2)"
      ],
      "metadata": {
        "id": "tbLGmwCPrY3f"
      },
      "execution_count": 8,
      "outputs": []
    },
    {
      "cell_type": "code",
      "source": [
        "for epoch in range(2):\n",
        "\n",
        "    for idx, batch_data in enumerate(train_loader):\n",
        "\n",
        "        x_train_batch, y_train_batch = batch_data\n",
        "\n",
        "        output_batch = model(x_train_batch)\n",
        "\n",
        "        print('==============================================')\n",
        "        print('epoch =', epoch+1, ', batch_idx =', idx+1, ',',\n",
        "              len(x_train_batch), len(y_train_batch), len(output_batch))\n",
        "        print('==============================================')\n",
        "\n",
        "        loss = loss_function(output_batch, y_train_batch)\n",
        "\n",
        "        optimizer.zero_grad()\n",
        "        loss.backward()\n",
        "        optimizer.step()"
      ],
      "metadata": {
        "colab": {
          "base_uri": "https://localhost:8080/"
        },
        "id": "6vRdl-8d_9S3",
        "outputId": "863a272f-65e0-4916-e35f-9de1a567e455"
      },
      "execution_count": 9,
      "outputs": [
        {
          "output_type": "stream",
          "name": "stdout",
          "text": [
            "==============================================\n",
            "epoch = 1 , batch_idx = 1 , 3 3 3\n",
            "==============================================\n",
            "==============================================\n",
            "epoch = 1 , batch_idx = 2 , 3 3 3\n",
            "==============================================\n",
            "==============================================\n",
            "epoch = 2 , batch_idx = 1 , 3 3 3\n",
            "==============================================\n",
            "==============================================\n",
            "epoch = 2 , batch_idx = 2 , 3 3 3\n",
            "==============================================\n"
          ]
        }
      ]
    },
    {
      "cell_type": "code",
      "source": [],
      "metadata": {
        "id": "gTDQMtdOzPpT"
      },
      "execution_count": null,
      "outputs": []
    }
  ]
}