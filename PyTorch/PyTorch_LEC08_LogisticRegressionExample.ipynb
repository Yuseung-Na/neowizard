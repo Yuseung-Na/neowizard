{
  "nbformat": 4,
  "nbformat_minor": 0,
  "metadata": {
    "colab": {
      "provenance": []
    },
    "kernelspec": {
      "name": "python3",
      "display_name": "Python 3"
    },
    "language_info": {
      "name": "python"
    }
  },
  "cells": [
    {
      "cell_type": "markdown",
      "source": [
        "# 데이터 정의"
      ],
      "metadata": {
        "id": "v6dyxUozWQ2l"
      }
    },
    {
      "cell_type": "code",
      "source": [
        "import numpy as np\n",
        "\n",
        "loaded_data = np.loadtxt('/content/diabetes.csv', delimiter=',')\n",
        "\n",
        "x_train_np = loaded_data[ : , 0:-1]\n",
        "y_train_np = loaded_data[ : , [-1]]\n",
        "\n",
        "print('loaded_data.shape = ', loaded_data.shape)\n",
        "print('x_train_np.shape = ', x_train_np.shape)\n",
        "print('y_train_np.shape = ', y_train_np.shape)"
      ],
      "metadata": {
        "colab": {
          "base_uri": "https://localhost:8080/"
        },
        "id": "r_goz9tn-Piv",
        "outputId": "7556673e-ecc7-4924-fb14-5c452cdafbd0"
      },
      "execution_count": null,
      "outputs": [
        {
          "output_type": "stream",
          "name": "stdout",
          "text": [
            "loaded_data.shape =  (759, 9)\n",
            "x_train_np.shape =  (759, 8)\n",
            "y_train_np.shape =  (759, 1)\n"
          ]
        }
      ]
    },
    {
      "cell_type": "code",
      "source": [
        "import torch\n",
        "from torch import nn\n",
        "\n",
        "x_train = torch.Tensor(x_train_np)\n",
        "y_train = torch.Tensor(y_train_np)"
      ],
      "metadata": {
        "id": "74Ui1qEopfxF"
      },
      "execution_count": null,
      "outputs": []
    },
    {
      "cell_type": "markdown",
      "source": [
        "# 신경망 모델 구축"
      ],
      "metadata": {
        "id": "XnPf1NiGWZ2n"
      }
    },
    {
      "cell_type": "code",
      "source": [
        "class MyLogisticRegressionModel(nn.Module):\n",
        "\n",
        "    def __init__(self):\n",
        "        super().__init__()\n",
        "        self.logistic_stack = nn.Sequential(\n",
        "            nn.Linear(8, 1),\n",
        "            nn.Sigmoid()\n",
        "        )\n",
        "\n",
        "    def forward(self, data):\n",
        "        prediction = self.logistic_stack(data)\n",
        "\n",
        "        return prediction"
      ],
      "metadata": {
        "id": "VhOa5OFRDpIX"
      },
      "execution_count": null,
      "outputs": []
    },
    {
      "cell_type": "code",
      "source": [
        "model = MyLogisticRegressionModel()\n",
        "\n",
        "for param in model.parameters():\n",
        "    print(param)"
      ],
      "metadata": {
        "colab": {
          "base_uri": "https://localhost:8080/"
        },
        "id": "VttIc9qQqZ1T",
        "outputId": "373048b8-b49f-4976-9964-fd56bae43ac7"
      },
      "execution_count": null,
      "outputs": [
        {
          "output_type": "stream",
          "name": "stdout",
          "text": [
            "Parameter containing:\n",
            "tensor([[-0.0402,  0.3074,  0.2096, -0.2859,  0.2837, -0.2986, -0.0589,  0.1638]],\n",
            "       requires_grad=True)\n",
            "Parameter containing:\n",
            "tensor([-0.0648], requires_grad=True)\n"
          ]
        }
      ]
    },
    {
      "cell_type": "markdown",
      "source": [
        "# 손실함수 및 옵티마이저 설정"
      ],
      "metadata": {
        "id": "sLxVJHH2XvUi"
      }
    },
    {
      "cell_type": "code",
      "source": [
        "loss_function = nn.BCELoss()\n",
        "optimizer = torch.optim.SGD(model.parameters(), lr=1e-1)"
      ],
      "metadata": {
        "id": "tbLGmwCPrY3f"
      },
      "execution_count": null,
      "outputs": []
    },
    {
      "cell_type": "code",
      "source": [
        "train_loss_list = []\n",
        "train_accuracy_list = []\n",
        "\n",
        "nums_epoch = 5000\n",
        "\n",
        "for epoch in range(nums_epoch+1):\n",
        "\n",
        "    outputs = model(x_train)\n",
        "\n",
        "    loss = loss_function(outputs, y_train)\n",
        "\n",
        "    train_loss_list.append(loss.item())\n",
        "\n",
        "    prediction = outputs > 0.5\n",
        "    correct = (prediction.float() == y_train)\n",
        "    accuracy = correct.sum().item() / len(correct)\n",
        "\n",
        "    train_accuracy_list.append(accuracy)\n",
        "\n",
        "    optimizer.zero_grad()\n",
        "    loss.backward()\n",
        "    optimizer.step()\n",
        "\n",
        "    if epoch % 100 == 0:\n",
        "        print('epoch = ', epoch, ' current loss = ', loss.item(), ' accuracy = ', accuracy)"
      ],
      "metadata": {
        "colab": {
          "base_uri": "https://localhost:8080/"
        },
        "id": "6vRdl-8d_9S3",
        "outputId": "3d56d7a9-8b2b-4d58-dbba-105c443eb2cd"
      },
      "execution_count": null,
      "outputs": [
        {
          "output_type": "stream",
          "name": "stdout",
          "text": [
            "epoch =  0  current loss =  0.7134889960289001  accuracy =  0.4176548089591568\n",
            "epoch =  100  current loss =  0.5817582011222839  accuracy =  0.6613965744400527\n",
            "epoch =  200  current loss =  0.5437836647033691  accuracy =  0.7220026350461133\n",
            "epoch =  300  current loss =  0.5217965245246887  accuracy =  0.7562582345191041\n",
            "epoch =  400  current loss =  0.5080538392066956  accuracy =  0.7654808959156785\n",
            "epoch =  500  current loss =  0.49893638491630554  accuracy =  0.769433465085639\n",
            "epoch =  600  current loss =  0.4926115572452545  accuracy =  0.7681159420289855\n",
            "epoch =  700  current loss =  0.48807403445243835  accuracy =  0.7720685111989459\n",
            "epoch =  800  current loss =  0.4847329556941986  accuracy =  0.7733860342555995\n",
            "epoch =  900  current loss =  0.482221394777298  accuracy =  0.769433465085639\n",
            "epoch =  1000  current loss =  0.4803006947040558  accuracy =  0.7681159420289855\n",
            "epoch =  1100  current loss =  0.4788101315498352  accuracy =  0.769433465085639\n",
            "epoch =  1200  current loss =  0.47763869166374207  accuracy =  0.769433465085639\n",
            "epoch =  1300  current loss =  0.4767071604728699  accuracy =  0.7707509881422925\n",
            "epoch =  1400  current loss =  0.47595885396003723  accuracy =  0.7720685111989459\n",
            "epoch =  1500  current loss =  0.4753516614437103  accuracy =  0.7733860342555995\n",
            "epoch =  1600  current loss =  0.4748544692993164  accuracy =  0.7720685111989459\n",
            "epoch =  1700  current loss =  0.47444379329681396  accuracy =  0.7720685111989459\n",
            "epoch =  1800  current loss =  0.474101722240448  accuracy =  0.7720685111989459\n",
            "epoch =  1900  current loss =  0.4738145172595978  accuracy =  0.7720685111989459\n",
            "epoch =  2000  current loss =  0.47357165813446045  accuracy =  0.7720685111989459\n",
            "epoch =  2100  current loss =  0.4733646810054779  accuracy =  0.7733860342555995\n",
            "epoch =  2200  current loss =  0.47318699955940247  accuracy =  0.7733860342555995\n",
            "epoch =  2300  current loss =  0.4730336368083954  accuracy =  0.7733860342555995\n",
            "epoch =  2400  current loss =  0.47290030121803284  accuracy =  0.7733860342555995\n",
            "epoch =  2500  current loss =  0.4727836549282074  accuracy =  0.7733860342555995\n",
            "epoch =  2600  current loss =  0.4726811647415161  accuracy =  0.7733860342555995\n",
            "epoch =  2700  current loss =  0.4725905954837799  accuracy =  0.7720685111989459\n",
            "epoch =  2800  current loss =  0.47251009941101074  accuracy =  0.7707509881422925\n",
            "epoch =  2900  current loss =  0.47243836522102356  accuracy =  0.7707509881422925\n",
            "epoch =  3000  current loss =  0.4723740220069885  accuracy =  0.7707509881422925\n",
            "epoch =  3100  current loss =  0.47231626510620117  accuracy =  0.7707509881422925\n",
            "epoch =  3200  current loss =  0.47226405143737793  accuracy =  0.7707509881422925\n",
            "epoch =  3300  current loss =  0.4722169041633606  accuracy =  0.7707509881422925\n",
            "epoch =  3400  current loss =  0.4721739888191223  accuracy =  0.7707509881422925\n",
            "epoch =  3500  current loss =  0.4721350371837616  accuracy =  0.7707509881422925\n",
            "epoch =  3600  current loss =  0.4720994830131531  accuracy =  0.7707509881422925\n",
            "epoch =  3700  current loss =  0.4720669686794281  accuracy =  0.7707509881422925\n",
            "epoch =  3800  current loss =  0.47203728556632996  accuracy =  0.7707509881422925\n",
            "epoch =  3900  current loss =  0.47200995683670044  accuracy =  0.7707509881422925\n",
            "epoch =  4000  current loss =  0.47198495268821716  accuracy =  0.7707509881422925\n",
            "epoch =  4100  current loss =  0.4719618558883667  accuracy =  0.769433465085639\n",
            "epoch =  4200  current loss =  0.47194063663482666  accuracy =  0.769433465085639\n",
            "epoch =  4300  current loss =  0.4719209372997284  accuracy =  0.769433465085639\n",
            "epoch =  4400  current loss =  0.47190290689468384  accuracy =  0.769433465085639\n",
            "epoch =  4500  current loss =  0.4718862473964691  accuracy =  0.769433465085639\n",
            "epoch =  4600  current loss =  0.4718707799911499  accuracy =  0.769433465085639\n",
            "epoch =  4700  current loss =  0.4718564748764038  accuracy =  0.769433465085639\n",
            "epoch =  4800  current loss =  0.47184333205223083  accuracy =  0.769433465085639\n",
            "epoch =  4900  current loss =  0.4718310832977295  accuracy =  0.769433465085639\n",
            "epoch =  5000  current loss =  0.4718197286128998  accuracy =  0.769433465085639\n"
          ]
        }
      ]
    },
    {
      "cell_type": "code",
      "source": [
        "for name, child in model.named_children():\n",
        "    for param in child.parameters():\n",
        "        print(name, param)"
      ],
      "metadata": {
        "colab": {
          "base_uri": "https://localhost:8080/"
        },
        "id": "fr-DUUS0tfXR",
        "outputId": "b36f116e-2c08-4268-e1f3-104e0dedf165"
      },
      "execution_count": null,
      "outputs": [
        {
          "output_type": "stream",
          "name": "stdout",
          "text": [
            "logistic_stack Parameter containing:\n",
            "tensor([[-0.8957, -3.5653,  0.3269, -0.5836, -0.3295, -2.4878, -1.0019, -0.0910]],\n",
            "       requires_grad=True)\n",
            "logistic_stack Parameter containing:\n",
            "tensor([0.1470], requires_grad=True)\n"
          ]
        }
      ]
    },
    {
      "cell_type": "code",
      "source": [
        "for param in model.parameters():\n",
        "    print(param)"
      ],
      "metadata": {
        "colab": {
          "base_uri": "https://localhost:8080/"
        },
        "id": "Y19m8tYLCQKD",
        "outputId": "deed7809-d1c0-414a-839b-e790ebe5bfb9"
      },
      "execution_count": null,
      "outputs": [
        {
          "output_type": "stream",
          "name": "stdout",
          "text": [
            "Parameter containing:\n",
            "tensor([[-0.8957, -3.5653,  0.3269, -0.5836, -0.3295, -2.4878, -1.0019, -0.0910]],\n",
            "       requires_grad=True)\n",
            "Parameter containing:\n",
            "tensor([0.1470], requires_grad=True)\n"
          ]
        }
      ]
    },
    {
      "cell_type": "markdown",
      "source": [
        "# 손실 및 정확도 추세"
      ],
      "metadata": {
        "id": "uZArJnFvwk9Y"
      }
    },
    {
      "cell_type": "code",
      "source": [
        "import matplotlib.pyplot as plt\n",
        "\n",
        "plt.title('Loss Trend')\n",
        "plt.xlabel('epochs')\n",
        "plt.ylabel('loss')\n",
        "plt.grid()\n",
        "\n",
        "plt.plot(train_loss_list, label='train loss')\n",
        "plt.legend(loc='best')\n",
        "\n",
        "plt.show()"
      ],
      "metadata": {
        "id": "8tkzr0NZxE-D",
        "colab": {
          "base_uri": "https://localhost:8080/",
          "height": 472
        },
        "outputId": "ac9aa09f-da50-4dd2-983e-a5a2f2a28420"
      },
      "execution_count": null,
      "outputs": [
        {
          "output_type": "display_data",
          "data": {
            "text/plain": [
              "<Figure size 640x480 with 1 Axes>"
            ],
            "image/png": "[encoded data removed]"
          },
          "metadata": {}
        }
      ]
    },
    {
      "cell_type": "code",
      "source": [
        "import matplotlib.pyplot as plt\n",
        "\n",
        "plt.title('Accuracy Trend')\n",
        "plt.xlabel('epochs')\n",
        "plt.ylabel('accuracy')\n",
        "plt.grid()\n",
        "\n",
        "plt.plot(train_accuracy_list, label='train accuracy')\n",
        "plt.legend(loc='best')\n",
        "\n",
        "plt.show()"
      ],
      "metadata": {
        "id": "jHOdmJqUuMoh",
        "colab": {
          "base_uri": "https://localhost:8080/",
          "height": 472
        },
        "outputId": "f049ad0c-9ebd-42c7-d22e-099f2c6d4c28"
      },
      "execution_count": null,
      "outputs": [
        {
          "output_type": "display_data",
          "data": {
            "text/plain": [
              "<Figure size 640x480 with 1 Axes>"
            ],
            "image/png": "[encoded data removed]"
          },
          "metadata": {}
        }
      ]
    },
    {
      "cell_type": "code",
      "source": [],
      "metadata": {
        "id": "UKU7SHyYVk8f"
      },
      "execution_count": null,
      "outputs": []
    }
  ]
}