{
  "nbformat": 4,
  "nbformat_minor": 0,
  "metadata": {
    "colab": {
      "provenance": []
    },
    "kernelspec": {
      "name": "python3",
      "display_name": "Python 3"
    },
    "language_info": {
      "name": "python"
    }
  },
  "cells": [
    {
      "cell_type": "markdown",
      "source": [
        "입력데이터 batch_size=1 인경우,  \n",
        "outputs 는 각각의 batch data 에 대해서 출력됨. 즉 batch_size=1 이므로 전체출력 outputs 는 batch_size * hidden_size = 3 개의 원소를 가지는 Tensor"
      ],
      "metadata": {
        "id": "VMqFOWKsuwGX"
      }
    },
    {
      "cell_type": "code",
      "source": [
        "import torch\n",
        "\n",
        "input_data = torch.Tensor([ [ [1], [2], [3] ] ])\n",
        "\n",
        "\n",
        "MyRNNModel = torch.nn.RNN(input_size=1, hidden_size=3,\n",
        "                          batch_first=True)\n",
        "\n",
        "\n",
        "outputs, last_hs = MyRNNModel(input_data)\n",
        "\n",
        "print(outputs.shape, '\\n\\n', outputs, '\\n')\n",
        "print(last_hs.shape,'\\n\\n', last_hs)"
      ],
      "metadata": {
        "id": "EPffapD7HU5m",
        "colab": {
          "base_uri": "https://localhost:8080/"
        },
        "outputId": "d030754f-27a9-457a-e441-686c7196c29d"
      },
      "execution_count": 3,
      "outputs": [
        {
          "output_type": "stream",
          "name": "stdout",
          "text": [
            "torch.Size([1, 3, 3]) \n",
            "\n",
            " tensor([[[ 0.8645, -0.7350, -0.0752],\n",
            "         [ 0.9160, -0.6650, -0.2979],\n",
            "         [ 0.9635, -0.7853, -0.0346]]], grad_fn=<TransposeBackward1>) \n",
            "\n",
            "torch.Size([1, 1, 3]) \n",
            "\n",
            " tensor([[[ 0.9635, -0.7853, -0.0346]]], grad_fn=<StackBackward0>)\n"
          ]
        }
      ]
    },
    {
      "cell_type": "markdown",
      "source": [
        "입력데이터 batch_size=2 인 경우,\n",
        "outputs 는 각각의 batch data 에 대해서 출력됨. 즉 batch_size=2 이므로 전체출력 outputs 는 batch_size * hidden_size = 6 개의 원소를 가지는 Tensor"
      ],
      "metadata": {
        "id": "zsv-pZM2u3Fm"
      }
    },
    {
      "cell_type": "code",
      "source": [
        "import torch\n",
        "\n",
        "input_data = torch.Tensor([ [ [1], [2], [3] ],\n",
        "                            [ [4], [5], [6] ] ])\n",
        "\n",
        "\n",
        "MyRNNModel = torch.nn.RNN(input_size=1, hidden_size=3,\n",
        "                          batch_first=True)\n",
        "\n",
        "\n",
        "outputs, last_hs = MyRNNModel(input_data)\n",
        "\n",
        "print(outputs.shape, '\\n\\n', outputs, '\\n')\n",
        "print(last_hs.shape,'\\n\\n', last_hs)"
      ],
      "metadata": {
        "id": "_o5qNzpCbjVw",
        "colab": {
          "base_uri": "https://localhost:8080/"
        },
        "outputId": "5fb1e995-657c-46b2-96db-ee528b2db1f8"
      },
      "execution_count": 4,
      "outputs": [
        {
          "output_type": "stream",
          "name": "stdout",
          "text": [
            "torch.Size([2, 3, 3]) \n",
            "\n",
            " tensor([[[ 0.1583,  0.4169, -0.2608],\n",
            "         [ 0.1343,  0.6532, -0.7049],\n",
            "         [ 0.0183,  0.8508, -0.9096]],\n",
            "\n",
            "        [[ 0.4063,  0.7686, -0.9146],\n",
            "         [ 0.2487,  0.9336, -0.9870],\n",
            "         [ 0.1856,  0.9632, -0.9949]]], grad_fn=<TransposeBackward1>) \n",
            "\n",
            "torch.Size([1, 2, 3]) \n",
            "\n",
            " tensor([[[ 0.0183,  0.8508, -0.9096],\n",
            "         [ 0.1856,  0.9632, -0.9949]]], grad_fn=<StackBackward0>)\n"
          ]
        }
      ]
    },
    {
      "cell_type": "markdown",
      "source": [
        "입력데이터 batch_size=3 인 경우,\n",
        "outputs 는 각각의 batch data 에 대해서 출력됨. 즉 batch_size=3 이므로 전체출력 outputs 는 batch_size * hidden_size = 9 개의 원소를 가지는 Tensor"
      ],
      "metadata": {
        "id": "-QZ-6BmovOow"
      }
    },
    {
      "cell_type": "code",
      "source": [
        "import torch\n",
        "\n",
        "input_data = torch.Tensor([ [ [1], [2], [3] ],\n",
        "                            [ [4], [5], [6] ],\n",
        "                            [ [7], [8], [9] ] ])\n",
        "\n",
        "\n",
        "MyRNNModel = torch.nn.RNN(input_size=1, hidden_size=3,\n",
        "                          batch_first=True)\n",
        "\n",
        "\n",
        "outputs, last_hs = MyRNNModel(input_data)\n",
        "\n",
        "print(outputs.shape, '\\n\\n', outputs, '\\n')\n",
        "print(last_hs.shape,'\\n\\n', last_hs)"
      ],
      "metadata": {
        "colab": {
          "base_uri": "https://localhost:8080/"
        },
        "id": "k5MtCM06vMMO",
        "outputId": "e2c1b768-b429-4c2d-c08b-25b0a6d94584"
      },
      "execution_count": 5,
      "outputs": [
        {
          "output_type": "stream",
          "name": "stdout",
          "text": [
            "torch.Size([3, 3, 3]) \n",
            "\n",
            " tensor([[[ 0.1338, -0.5827,  0.3698],\n",
            "         [ 0.7415, -0.7868,  0.6803],\n",
            "         [ 0.9540, -0.9446,  0.8801]],\n",
            "\n",
            "        [[ 0.9405, -0.9829,  0.8920],\n",
            "         [ 0.9962, -0.9941,  0.9739],\n",
            "         [ 0.9989, -0.9981,  0.9879]],\n",
            "\n",
            "        [[ 0.9975, -0.9994,  0.9859],\n",
            "         [ 0.9999, -0.9998,  0.9970],\n",
            "         [ 1.0000, -0.9999,  0.9985]]], grad_fn=<TransposeBackward1>) \n",
            "\n",
            "torch.Size([1, 3, 3]) \n",
            "\n",
            " tensor([[[ 0.9540, -0.9446,  0.8801],\n",
            "         [ 0.9989, -0.9981,  0.9879],\n",
            "         [ 1.0000, -0.9999,  0.9985]]], grad_fn=<StackBackward0>)\n"
          ]
        }
      ]
    },
    {
      "cell_type": "code",
      "source": [],
      "metadata": {
        "id": "cghrX5XuwX_2"
      },
      "execution_count": null,
      "outputs": []
    }
  ]
}