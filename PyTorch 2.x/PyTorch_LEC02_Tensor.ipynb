{
  "nbformat": 4,
  "nbformat_minor": 0,
  "metadata": {
    "colab": {
      "provenance": [],
      "gpuType": "T4"
    },
    "kernelspec": {
      "name": "python3",
      "display_name": "Python 3"
    },
    "language_info": {
      "name": "python"
    },
    "accelerator": "GPU"
  },
  "cells": [
    {
      "cell_type": "markdown",
      "source": [
        "# Tensor 만들기"
      ],
      "metadata": {
        "id": "B799tKkoJks9"
      }
    },
    {
      "cell_type": "code",
      "execution_count": 1,
      "metadata": {
        "id": "cm30VsxRXzXx"
      },
      "outputs": [],
      "source": [
        "import torch\n",
        "import numpy as np"
      ]
    },
    {
      "cell_type": "code",
      "source": [
        "list_data = [ [10, 20], [30, 40] ]\n",
        "\n",
        "tensor1 = torch.Tensor(list_data)\n",
        "\n",
        "print(tensor1)\n",
        "print(f\"tensor type: {type(tensor1)}, tensor shape: {tensor1.shape}\")\n",
        "print(f\"tensor dtype: {tensor1.dtype}, tensor device: {tensor1.device}\")"
      ],
      "metadata": {
        "colab": {
          "base_uri": "https://localhost:8080/"
        },
        "id": "h5LSWFmlYRzI",
        "outputId": "10890bd0-8325-4437-fd47-5877267a21d3"
      },
      "execution_count": 2,
      "outputs": [
        {
          "output_type": "stream",
          "name": "stdout",
          "text": [
            "tensor([[10., 20.],\n",
            "        [30., 40.]])\n",
            "tensor type: <class 'torch.Tensor'>, tensor shape: torch.Size([2, 2])\n",
            "tensor dtype: torch.float32, tensor device: cpu\n"
          ]
        }
      ]
    },
    {
      "cell_type": "code",
      "source": [
        "if torch.cuda.is_available():\n",
        "    tensor1 = tensor1.to(\"cuda\")\n",
        "\n",
        "print(f\"tensor type: {type(tensor1)}, tensor shape: {tensor1.shape}\")\n",
        "print(f\"tensor dtype: {tensor1.dtype}, tensor device: {tensor1.device}\")"
      ],
      "metadata": {
        "colab": {
          "base_uri": "https://localhost:8080/"
        },
        "id": "4c6-XJf5UF6u",
        "outputId": "2e926638-71d9-472b-9bdf-81789b01e1b9"
      },
      "execution_count": 3,
      "outputs": [
        {
          "output_type": "stream",
          "name": "stdout",
          "text": [
            "tensor type: <class 'torch.Tensor'>, tensor shape: torch.Size([2, 2])\n",
            "tensor dtype: torch.float32, tensor device: cuda:0\n"
          ]
        }
      ]
    },
    {
      "cell_type": "code",
      "source": [
        "numpy_data = np.array(list_data)\n",
        "\n",
        "tensor2 = torch.Tensor(numpy_data)\n",
        "\n",
        "print(tensor2)\n",
        "print(f\"tensor type: {type(tensor2)}, tensor shape: {tensor2.shape}\")\n",
        "print(f\"tensor dtype: {tensor2.dtype}, tensor device: {tensor2.device}\")"
      ],
      "metadata": {
        "id": "qZDMp_RaYffN",
        "colab": {
          "base_uri": "https://localhost:8080/"
        },
        "outputId": "d69851a9-3c99-417a-8e9d-1b39cb5b5ab7"
      },
      "execution_count": 4,
      "outputs": [
        {
          "output_type": "stream",
          "name": "stdout",
          "text": [
            "tensor([[10., 20.],\n",
            "        [30., 40.]])\n",
            "tensor type: <class 'torch.Tensor'>, tensor shape: torch.Size([2, 2])\n",
            "tensor dtype: torch.float32, tensor device: cpu\n"
          ]
        }
      ]
    },
    {
      "cell_type": "code",
      "source": [
        "numpy_data = np.array(list_data)\n",
        "\n",
        "tensor2_1 = torch.from_numpy(numpy_data)\n",
        "\n",
        "print(tensor2_1)\n",
        "print(f\"tensor type: {type(tensor2_1)}, tensor shape: {tensor2_1.shape}\")\n",
        "print(f\"tensor dtype: {tensor2_1.dtype}, tensor device: {tensor2_1.device}\")\n",
        "\n",
        "tensor2_2 = torch.from_numpy(numpy_data).float()\n",
        "print('====================================')\n",
        "\n",
        "print(tensor2_2)\n",
        "print(f\"tensor type: {type(tensor2_2)}, tensor shape: {tensor2_2.shape}\")\n",
        "print(f\"tensor dtype: {tensor2_2.dtype}, tensor device: {tensor2_2.device}\")"
      ],
      "metadata": {
        "colab": {
          "base_uri": "https://localhost:8080/"
        },
        "id": "eIvckpFZaGkI",
        "outputId": "22792b62-9976-45e0-d41b-2d54b38abc23"
      },
      "execution_count": 5,
      "outputs": [
        {
          "output_type": "stream",
          "name": "stdout",
          "text": [
            "tensor([[10, 20],\n",
            "        [30, 40]])\n",
            "tensor type: <class 'torch.Tensor'>, tensor shape: torch.Size([2, 2])\n",
            "tensor dtype: torch.int64, tensor device: cpu\n",
            "====================================\n",
            "tensor([[10., 20.],\n",
            "        [30., 40.]])\n",
            "tensor type: <class 'torch.Tensor'>, tensor shape: torch.Size([2, 2])\n",
            "tensor dtype: torch.float32, tensor device: cpu\n"
          ]
        }
      ]
    },
    {
      "cell_type": "code",
      "source": [
        "tensor3 = torch.rand(2, 2)\n",
        "print(tensor3)\n",
        "\n",
        "tensor4 = torch.randn(2, 2)\n",
        "print(tensor4)"
      ],
      "metadata": {
        "colab": {
          "base_uri": "https://localhost:8080/"
        },
        "id": "0LXyTWbUKH4r",
        "outputId": "b7d761cd-fbc4-4b85-e879-57d4c505dadf"
      },
      "execution_count": 6,
      "outputs": [
        {
          "output_type": "stream",
          "name": "stdout",
          "text": [
            "tensor([[0.7929, 0.7416],\n",
            "        [0.7202, 0.8677]])\n",
            "tensor([[ 0.0359,  2.3576],\n",
            "        [-0.6327,  1.7375]])\n"
          ]
        }
      ]
    },
    {
      "cell_type": "code",
      "source": [
        "tensor5 = torch.randn(2, 2)\n",
        "print(tensor5)\n",
        "\n",
        "numpy_from_tensor = tensor5.numpy()\n",
        "print(numpy_from_tensor)"
      ],
      "metadata": {
        "colab": {
          "base_uri": "https://localhost:8080/"
        },
        "id": "DdjMelxNKKYs",
        "outputId": "43b2617f-baeb-4444-f71b-25d965c525b2"
      },
      "execution_count": 7,
      "outputs": [
        {
          "output_type": "stream",
          "name": "stdout",
          "text": [
            "tensor([[ 0.1302, -0.0783],\n",
            "        [-0.1032, -0.9706]])\n",
            "[[ 0.13024028 -0.07826642]\n",
            " [-0.10320276 -0.97058386]]\n"
          ]
        }
      ]
    },
    {
      "cell_type": "markdown",
      "source": [
        "# Tensor 연산"
      ],
      "metadata": {
        "id": "sXPqTPcDXxaN"
      }
    },
    {
      "cell_type": "code",
      "source": [
        "tensor6 = torch.Tensor([[1, 2, 3], [4, 5, 6]])\n",
        "\n",
        "tensor7 = torch.Tensor([[7, 8, 9], [10, 11, 12]])\n",
        "\n",
        "print(tensor6[0])\n",
        "print(tensor6[:, 1:])\n",
        "print(tensor7[0:2, 0:-1])\n",
        "print(tensor7[-1, -1])\n",
        "print(tensor7[... , -2])"
      ],
      "metadata": {
        "colab": {
          "base_uri": "https://localhost:8080/"
        },
        "id": "C4acmA7vSZpT",
        "outputId": "c83c35ec-af10-4777-ec0a-24e6e643e6cd"
      },
      "execution_count": 8,
      "outputs": [
        {
          "output_type": "stream",
          "name": "stdout",
          "text": [
            "tensor([1., 2., 3.])\n",
            "tensor([[2., 3.],\n",
            "        [5., 6.]])\n",
            "tensor([[ 7.,  8.],\n",
            "        [10., 11.]])\n",
            "tensor(12.)\n",
            "tensor([ 8., 11.])\n"
          ]
        }
      ]
    },
    {
      "cell_type": "code",
      "source": [
        "tensor8 = tensor6.mul(tensor7)  # tensor8 = tensor6 * tensor7\n",
        "\n",
        "print(tensor8)"
      ],
      "metadata": {
        "colab": {
          "base_uri": "https://localhost:8080/"
        },
        "id": "46lw1Y90YcEy",
        "outputId": "22bc72d9-8582-4df8-847e-e1553886001f"
      },
      "execution_count": 9,
      "outputs": [
        {
          "output_type": "stream",
          "name": "stdout",
          "text": [
            "tensor([[ 7., 16., 27.],\n",
            "        [40., 55., 72.]])\n"
          ]
        }
      ]
    },
    {
      "cell_type": "code",
      "source": [
        "tensor9 = tensor6.matmul(tensor7)   # tensor6 @ tensor7"
      ],
      "metadata": {
        "colab": {
          "base_uri": "https://localhost:8080/",
          "height": 186
        },
        "id": "-iXuoTYOcZg4",
        "outputId": "a3d7585e-bd07-458c-aba9-213507b80af8"
      },
      "execution_count": 10,
      "outputs": [
        {
          "output_type": "error",
          "ename": "RuntimeError",
          "evalue": "ignored",
          "traceback": [
            "\u001b[0;31m---------------------------------------------------------------------------\u001b[0m",
            "\u001b[0;31mRuntimeError\u001b[0m                              Traceback (most recent call last)",
            "\u001b[0;32m<ipython-input-10-b58a59bd580d>\u001b[0m in \u001b[0;36m<cell line: 1>\u001b[0;34m()\u001b[0m\n\u001b[0;32m----> 1\u001b[0;31m \u001b[0mtensor9\u001b[0m \u001b[0;34m=\u001b[0m \u001b[0mtensor6\u001b[0m\u001b[0;34m.\u001b[0m\u001b[0mmatmul\u001b[0m\u001b[0;34m(\u001b[0m\u001b[0mtensor7\u001b[0m\u001b[0;34m)\u001b[0m   \u001b[0;31m# tensor6 @ tensor7\u001b[0m\u001b[0;34m\u001b[0m\u001b[0;34m\u001b[0m\u001b[0m\n\u001b[0m",
            "\u001b[0;31mRuntimeError\u001b[0m: mat1 and mat2 shapes cannot be multiplied (2x3 and 2x3)"
          ]
        }
      ]
    },
    {
      "cell_type": "code",
      "source": [
        "tensor7.view(3, 2)"
      ],
      "metadata": {
        "colab": {
          "base_uri": "https://localhost:8080/"
        },
        "id": "PwL5cOk3vrK7",
        "outputId": "0a1c4236-5b63-4825-b386-4ca75c05450a"
      },
      "execution_count": 11,
      "outputs": [
        {
          "output_type": "execute_result",
          "data": {
            "text/plain": [
              "tensor([[ 7.,  8.],\n",
              "        [ 9., 10.],\n",
              "        [11., 12.]])"
            ]
          },
          "metadata": {},
          "execution_count": 11
        }
      ]
    },
    {
      "cell_type": "code",
      "source": [
        "tensor9 = tensor6.matmul(tensor7.view(3, 2))  # tensor6 @ tensor7.view(3, 2)\n",
        "\n",
        "print(tensor9)"
      ],
      "metadata": {
        "colab": {
          "base_uri": "https://localhost:8080/"
        },
        "id": "TpXLPuq-ckdR",
        "outputId": "336f53a2-652f-4e4b-cc42-8b3310c0173f"
      },
      "execution_count": 12,
      "outputs": [
        {
          "output_type": "stream",
          "name": "stdout",
          "text": [
            "tensor([[ 58.,  64.],\n",
            "        [139., 154.]])\n"
          ]
        }
      ]
    },
    {
      "cell_type": "markdown",
      "source": [
        "# Tensor 합치기(Concatenate)"
      ],
      "metadata": {
        "id": "3nhPbJhAevLq"
      }
    },
    {
      "cell_type": "code",
      "source": [
        "tensor_cat = torch.cat([tensor6, tensor7])\n",
        "\n",
        "print(tensor_cat)"
      ],
      "metadata": {
        "colab": {
          "base_uri": "https://localhost:8080/"
        },
        "id": "g1xYr91sfQ5R",
        "outputId": "d1dec444-2718-47f2-80d9-93cc75d8729c"
      },
      "execution_count": 13,
      "outputs": [
        {
          "output_type": "stream",
          "name": "stdout",
          "text": [
            "tensor([[ 1.,  2.,  3.],\n",
            "        [ 4.,  5.,  6.],\n",
            "        [ 7.,  8.,  9.],\n",
            "        [10., 11., 12.]])\n"
          ]
        }
      ]
    },
    {
      "cell_type": "code",
      "source": [
        "tensor_cat_dim0 = torch.cat([tensor6, tensor7], dim=0)\n",
        "\n",
        "print(tensor_cat_dim0)"
      ],
      "metadata": {
        "colab": {
          "base_uri": "https://localhost:8080/"
        },
        "id": "Yh2RCOkQcrVa",
        "outputId": "bd13d175-4112-478b-9420-61c82afe7c5e"
      },
      "execution_count": 14,
      "outputs": [
        {
          "output_type": "stream",
          "name": "stdout",
          "text": [
            "tensor([[ 1.,  2.,  3.],\n",
            "        [ 4.,  5.,  6.],\n",
            "        [ 7.,  8.,  9.],\n",
            "        [10., 11., 12.]])\n"
          ]
        }
      ]
    },
    {
      "cell_type": "code",
      "source": [
        "tensor_cat_dim1 = torch.cat([tensor6, tensor7], dim=1)\n",
        "\n",
        "print(tensor_cat_dim1)"
      ],
      "metadata": {
        "colab": {
          "base_uri": "https://localhost:8080/"
        },
        "id": "GDbZm9hefL_G",
        "outputId": "b17ffa3b-3aa0-4304-fe56-a8ae402670c9"
      },
      "execution_count": 15,
      "outputs": [
        {
          "output_type": "stream",
          "name": "stdout",
          "text": [
            "tensor([[ 1.,  2.,  3.,  7.,  8.,  9.],\n",
            "        [ 4.,  5.,  6., 10., 11., 12.]])\n"
          ]
        }
      ]
    },
    {
      "cell_type": "code",
      "source": [],
      "metadata": {
        "id": "RYy0mKY6fPaQ"
      },
      "execution_count": null,
      "outputs": []
    }
  ]
}